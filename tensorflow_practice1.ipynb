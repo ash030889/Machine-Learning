{
  "nbformat": 4,
  "nbformat_minor": 0,
  "metadata": {
    "colab": {
      "provenance": [],
      "authorship_tag": "ABX9TyPfD44IyQuVOkrOT2tQLsKn",
      "include_colab_link": true
    },
    "kernelspec": {
      "name": "python3",
      "display_name": "Python 3"
    },
    "language_info": {
      "name": "python"
    }
  },
  "cells": [
    {
      "cell_type": "markdown",
      "metadata": {
        "id": "view-in-github",
        "colab_type": "text"
      },
      "source": [
        "<a href=\"https://colab.research.google.com/github/ash030889/Machine-Learning/blob/main/tensorflow_practice1.ipynb\" target=\"_parent\"><img src=\"https://colab.research.google.com/assets/colab-badge.svg\" alt=\"Open In Colab\"/></a>"
      ]
    },
    {
      "cell_type": "code",
      "execution_count": 6,
      "metadata": {
        "colab": {
          "base_uri": "https://localhost:8080/"
        },
        "id": "BdQkf2qyuzg-",
        "outputId": "3475d0c1-9c48-4ff1-9faf-ff46a9966858"
      },
      "outputs": [
        {
          "output_type": "stream",
          "name": "stdout",
          "text": [
            "TensorFlow version: 2.15.0\n"
          ]
        }
      ],
      "source": [
        "import tensorflow as tf\n",
        "print(\"TensorFlow version:\", tf.__version__)\n",
        "import numpy as np\n",
        "import matplotlib.pyplot as plt\n"
      ]
    },
    {
      "cell_type": "code",
      "source": [
        "mnist = tf.keras.datasets.mnist\n",
        "\n",
        "(x_train, y_train), (x_test, y_test) = mnist.load_data()\n",
        "x_train, x_test = x_train / 255.0, x_test / 255.0"
      ],
      "metadata": {
        "id": "duxjEd93u_do"
      },
      "execution_count": 7,
      "outputs": []
    },
    {
      "cell_type": "code",
      "source": [
        "model = tf.keras.models.Sequential([\n",
        "  tf.keras.layers.Flatten(input_shape=(28, 28)),\n",
        "  tf.keras.layers.Dense(128, activation='relu'),\n",
        "  tf.keras.layers.Dropout(0.2),\n",
        "  tf.keras.layers.Dense(10)\n",
        "])"
      ],
      "metadata": {
        "id": "ETUqIhqVvEMX"
      },
      "execution_count": 8,
      "outputs": []
    },
    {
      "cell_type": "code",
      "source": [
        "predictions = model(x_train[:1]).numpy()\n",
        "predictions"
      ],
      "metadata": {
        "colab": {
          "base_uri": "https://localhost:8080/"
        },
        "id": "-rextgAxvG3g",
        "outputId": "fe667f36-4bab-46c4-f28f-b7c9397899e1"
      },
      "execution_count": 9,
      "outputs": [
        {
          "output_type": "execute_result",
          "data": {
            "text/plain": [
              "array([[ 0.614316  ,  0.8113788 , -0.13627765, -0.11579528, -0.33714524,\n",
              "         0.0706005 ,  0.26045066, -0.14237645, -0.35751665, -0.25149146]],\n",
              "      dtype=float32)"
            ]
          },
          "metadata": {},
          "execution_count": 9
        }
      ]
    },
    {
      "cell_type": "code",
      "source": [
        "tf.nn.softmax(predictions).numpy()"
      ],
      "metadata": {
        "colab": {
          "base_uri": "https://localhost:8080/"
        },
        "id": "3Ah1MinvvKI-",
        "outputId": "0563d725-e0ea-43f9-ab02-0fd7e3ad745c"
      },
      "execution_count": 10,
      "outputs": [
        {
          "output_type": "execute_result",
          "data": {
            "text/plain": [
              "array([[0.16369797, 0.19935474, 0.07727956, 0.07887875, 0.06321628,\n",
              "        0.09504092, 0.11491098, 0.07680967, 0.0619415 , 0.06886965]],\n",
              "      dtype=float32)"
            ]
          },
          "metadata": {},
          "execution_count": 10
        }
      ]
    },
    {
      "cell_type": "code",
      "source": [
        "loss_fn = tf.keras.losses.SparseCategoricalCrossentropy(from_logits=True)"
      ],
      "metadata": {
        "id": "yl0LrNDAvnzZ"
      },
      "execution_count": 11,
      "outputs": []
    },
    {
      "cell_type": "code",
      "source": [
        "loss_fn(y_train[:1], predictions).numpy()"
      ],
      "metadata": {
        "colab": {
          "base_uri": "https://localhost:8080/"
        },
        "id": "U5z4gdWZvtNJ",
        "outputId": "dc677bb1-86ce-4695-9629-a7c90a581435"
      },
      "execution_count": 12,
      "outputs": [
        {
          "output_type": "execute_result",
          "data": {
            "text/plain": [
              "2.3534477"
            ]
          },
          "metadata": {},
          "execution_count": 12
        }
      ]
    },
    {
      "cell_type": "code",
      "source": [
        "model.compile(optimizer='adam',\n",
        "              loss=loss_fn,\n",
        "              metrics=['accuracy'])"
      ],
      "metadata": {
        "id": "xwicl4c1vv4W"
      },
      "execution_count": 13,
      "outputs": []
    },
    {
      "cell_type": "code",
      "source": [
        "model.fit(x_train, y_train, epochs=5)"
      ],
      "metadata": {
        "colab": {
          "base_uri": "https://localhost:8080/"
        },
        "id": "OjJDkbrnvyN7",
        "outputId": "00cf9acd-c061-4cbe-f19e-6fe1730c5a04"
      },
      "execution_count": 14,
      "outputs": [
        {
          "output_type": "stream",
          "name": "stdout",
          "text": [
            "Epoch 1/5\n",
            "1875/1875 [==============================] - 7s 3ms/step - loss: 0.2935 - accuracy: 0.9163\n",
            "Epoch 2/5\n",
            "1875/1875 [==============================] - 5s 3ms/step - loss: 0.1404 - accuracy: 0.9582\n",
            "Epoch 3/5\n",
            "1875/1875 [==============================] - 7s 4ms/step - loss: 0.1058 - accuracy: 0.9679\n",
            "Epoch 4/5\n",
            "1875/1875 [==============================] - 6s 3ms/step - loss: 0.0883 - accuracy: 0.9722\n",
            "Epoch 5/5\n",
            "1875/1875 [==============================] - 7s 4ms/step - loss: 0.0751 - accuracy: 0.9766\n"
          ]
        },
        {
          "output_type": "execute_result",
          "data": {
            "text/plain": [
              "<keras.src.callbacks.History at 0x78ab0184fcd0>"
            ]
          },
          "metadata": {},
          "execution_count": 14
        }
      ]
    },
    {
      "cell_type": "code",
      "source": [
        "model.evaluate(x_test,  y_test, verbose=2)"
      ],
      "metadata": {
        "colab": {
          "base_uri": "https://localhost:8080/"
        },
        "id": "ep2l4am7v1bj",
        "outputId": "39235c01-ef94-42f7-ad62-bde1795ff07f"
      },
      "execution_count": 15,
      "outputs": [
        {
          "output_type": "stream",
          "name": "stdout",
          "text": [
            "313/313 - 1s - loss: 0.0731 - accuracy: 0.9777 - 568ms/epoch - 2ms/step\n"
          ]
        },
        {
          "output_type": "execute_result",
          "data": {
            "text/plain": [
              "[0.07310887426137924, 0.9776999950408936]"
            ]
          },
          "metadata": {},
          "execution_count": 15
        }
      ]
    },
    {
      "cell_type": "code",
      "source": [
        "probability_model = tf.keras.Sequential([\n",
        "  model,\n",
        "  tf.keras.layers.Softmax()\n",
        "])"
      ],
      "metadata": {
        "id": "OLM00Bglv-sd"
      },
      "execution_count": 16,
      "outputs": []
    },
    {
      "cell_type": "code",
      "source": [
        "probability_model(x_test[:5])"
      ],
      "metadata": {
        "colab": {
          "base_uri": "https://localhost:8080/"
        },
        "id": "Uf0NomxAwBan",
        "outputId": "d9455bcc-2271-4c1e-cdc4-8ae063490aa2"
      },
      "execution_count": 17,
      "outputs": [
        {
          "output_type": "execute_result",
          "data": {
            "text/plain": [
              "<tf.Tensor: shape=(5, 10), dtype=float32, numpy=\n",
              "array([[1.18099006e-08, 4.64512162e-09, 9.87880412e-07, 3.08369141e-04,\n",
              "        2.65721234e-12, 2.24650739e-06, 1.07454757e-11, 9.99683619e-01,\n",
              "        3.18794235e-07, 4.49603885e-06],\n",
              "       [5.52847823e-10, 1.39110598e-05, 9.99981523e-01, 4.51885307e-06,\n",
              "        2.76481708e-18, 1.81052506e-08, 5.67322189e-10, 1.16028105e-13,\n",
              "        1.54897268e-08, 2.18597858e-14],\n",
              "       [1.06450258e-07, 9.99328613e-01, 1.16436691e-04, 1.07330097e-05,\n",
              "        7.97301909e-05, 7.15469832e-06, 1.40803095e-04, 1.77971262e-04,\n",
              "        1.34790200e-04, 3.64617881e-06],\n",
              "       [9.99939799e-01, 4.59683180e-10, 1.72642067e-05, 3.35821881e-07,\n",
              "        4.25377955e-08, 1.96166684e-06, 2.17724682e-05, 1.08524034e-07,\n",
              "        9.40758866e-08, 1.87304340e-05],\n",
              "       [2.47221828e-06, 1.88431493e-09, 6.95256449e-06, 1.39018141e-06,\n",
              "        9.90313053e-01, 1.15146861e-07, 4.14491160e-06, 1.74211906e-04,\n",
              "        2.92010009e-06, 9.49474890e-03]], dtype=float32)>"
            ]
          },
          "metadata": {},
          "execution_count": 17
        }
      ]
    },
    {
      "cell_type": "code",
      "source": [],
      "metadata": {
        "id": "3-Ekpe8DwIZ7"
      },
      "execution_count": null,
      "outputs": []
    }
  ]
}